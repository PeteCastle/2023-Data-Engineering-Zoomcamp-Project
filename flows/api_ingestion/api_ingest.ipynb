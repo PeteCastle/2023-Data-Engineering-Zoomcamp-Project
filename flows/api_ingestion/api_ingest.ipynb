{
 "cells": [
  {
   "cell_type": "code",
   "execution_count": 1,
   "metadata": {},
   "outputs": [
    {
     "name": "stdout",
     "output_type": "stream",
     "text": [
      "Requirement already satisfied: nest_asyncio in c:\\python310\\lib\\site-packages (1.5.5)\n",
      "Note: you may need to restart the kernel to use updated packages.\n"
     ]
    },
    {
     "name": "stderr",
     "output_type": "stream",
     "text": [
      "WARNING: Ignoring invalid distribution -ip (c:\\python310\\lib\\site-packages)\n",
      "WARNING: Ignoring invalid distribution -ip (c:\\python310\\lib\\site-packages)\n",
      "WARNING: Ignoring invalid distribution -ip (c:\\python310\\lib\\site-packages)\n",
      "WARNING: Ignoring invalid distribution -ip (c:\\python310\\lib\\site-packages)\n",
      "WARNING: Ignoring invalid distribution -ip (c:\\python310\\lib\\site-packages)\n",
      "WARNING: Ignoring invalid distribution -ip (c:\\python310\\lib\\site-packages)\n",
      "\n",
      "[notice] A new release of pip available: 22.2.1 -> 23.0.1\n",
      "[notice] To update, run: python.exe -m pip install --upgrade pip\n"
     ]
    }
   ],
   "source": [
    "%pip install nest_asyncio\n",
    "\n",
    "import asyncio\n",
    "\n",
    "import nest_asyncio\n",
    "\n",
    "\n",
    "nest_asyncio.apply()"
   ]
  },
  {
   "cell_type": "code",
   "execution_count": 2,
   "metadata": {},
   "outputs": [],
   "source": [
    "# from airflow.decorators import task\n",
    "import requests\n",
    "import json\n",
    "import os\n",
    "import asyncio\n",
    "from aiohttp import ClientSession\n",
    "\n",
    "import pandas as pd\n",
    "import numpy as np\n",
    "from datetime import datetime\n",
    "\n"
   ]
  },
  {
   "cell_type": "code",
   "execution_count": 14,
   "metadata": {},
   "outputs": [],
   "source": [
    "\n",
    "regional_base_uri = \"https://sea.api.riotgames.com/\"\n",
    "local_base_uri = \"https://ph2.api.riotgames.com/\"\n",
    "\n",
    "riot_tokens = [\n",
    "    \"RGAPI-ec7dde02-672d-47ea-b6aa-5b014e554c6b\", #PBE\n",
    "    \"RGAPI-68dca2ec-bf5e-4c87-8bce-5dea4d53da72\", #NA\n",
    "    \"RGAPI-ad062b7b-fd93-4a98-b656-729a176dd11d\", #EUW\n",
    "    \"RGAPI-6d255cbf-5352-4090-94b1-68f1d9746f6f\", #EUNE\n",
    "    \"RGAPI-b509d9b8-4900-4052-9162-051ed993cbea\", #MAIN\n",
    "\n",
    "]\n",
    "default_header = {\n",
    "   \n",
    "}\n",
    "currentTokenIndex = 0\n",
    "\n",
    "def get_next_token_index() -> int:\n",
    "    global currentTokenIndex\n",
    "    if currentTokenIndex == len(riot_tokens) - 1:\n",
    "        currentTokenIndex = 0\n",
    "    else:\n",
    "        currentTokenIndex+=1\n",
    "    return currentTokenIndex\n",
    "\n",
    "async def api_request(url, riot_token) -> dict:\n",
    "    header = {\n",
    "        \"Accept-Language\": \"en-US,en;q=0.9\",\n",
    "        \"Accept-Charset\": \"application/x-www-form-urlencoded; charset=UTF-8\",\n",
    "        \"Origin\": \"https://developer.riotgames.com\",\n",
    "        \"X-Riot-Token\": riot_token,\n",
    "    }\n",
    "    async with ClientSession() as session:\n",
    "        async with session.get(url, headers=header) as response:\n",
    "            try:\n",
    "                # print(\"done na with \" + url + \" with token \" + header[\"X-Riot-Token\"])\n",
    "                if response.status == 429:\n",
    "                    retry_after = int(response.headers.get('Retry-After', '1'))\n",
    "                    print(\"Rate limited, retrying after \" + str(retry_after) + \" seconds\")\n",
    "                    await asyncio.sleep(retry_after)\n",
    "                    return await api_request(url, header)\n",
    "                assert response.status == 200\n",
    "                return await response.json()\n",
    "            except AssertionError:\n",
    "                print(\"An error occurred: \" + str(response.status) + \" with token \" + header[\"X-Riot-Token\"])\n",
    "                print(url + \" \" + str(await response.json()))\n",
    "            "
   ]
  },
  {
   "cell_type": "code",
   "execution_count": 4,
   "metadata": {},
   "outputs": [],
   "source": [
    "\n",
    "# @task(task_id=\"multiple_matches_ingest\")\n",
    "async def matches_request(matches: list[str], region_group : str) -> list[dict]:\n",
    "    requests_list = []\n",
    "    for match in matches:\n",
    "        print(\"Fetching match: \" + match)\n",
    "        # match_uri = regional_base_uri + \"lol/match/v5/matches/\" + match\n",
    "        match_uri = f\"https://{region_group}.api.riotgames.com/lol/match/v5/matches/{match}\"\n",
    "        requests_list.append(api_request(match_uri, default_header))\n",
    "    return await asyncio.gather(*requests_list)\n",
    "    # print(responses)\n",
    "\n",
    "async def league_entries_request(queue: str, tier :str, division:str, page:int , region : str) -> list[dict]:\n",
    "    request = api_request(f\"https://{region}.api.riotgames.com/lol/league-exp/v4/entries/{queue}/{tier}/{division}?page={page}\", default_header)\n",
    "    return await asyncio.gather(*[request])\n",
    "\n",
    "async def top_league_entries_request(queue : str, tier:str, region : str) -> list[dict]:\n",
    "    request = api_request(f\"https://{region}.api.riotgames.com/lol/league/v4/{tier}/by-queue/{queue}\", default_header)\n",
    "    return await asyncio.gather(*[request])\n",
    "\n",
    "async def players_request(players : list[tuple]): #By SummonnerID -> \"id\" in JSON file\n",
    "    requests_list = []\n",
    "\n",
    "    for region, summonerID in players:\n",
    "        requests_list.append(api_request(f\"https://{region}.api.riotgames.com/lol/summoner/v4/summoners/{summonerID}\", default_header))\n",
    "    \n",
    "    semaphore = asyncio.Semaphore(20)\n",
    "    async def semaphored_request(request):\n",
    "        async with semaphore:\n",
    "            return await request\n",
    "    \n",
    "    return await asyncio.gather(*(semaphored_request(request) for request in requests_list))"
   ]
  },
  {
   "cell_type": "code",
   "execution_count": 5,
   "metadata": {},
   "outputs": [],
   "source": [
    "# @task(task_id=\"multiple_matches_ingest\")\n",
    "def matches_ingest(matches: list[str], region = \"sea\") -> list[dict]:\n",
    "    return asyncio.run(matches_request(matches))\n",
    "\n",
    "# @task(task_id=\"league_entries_ingest\")\n",
    "def league_entries_ingest(queue: str, tier :str, division:str, page:int = 1, region = \"ph2\") -> list[dict]:\n",
    "    return asyncio.run(league_entries_request(queue, tier, division, page, region))[0]\n",
    "\n",
    "# @task(task_id=\"top_league_entries_ingest\")\n",
    "def top_league_entries_ingest(queue: str, tier:str,region = \"ph2\") -> dict:\n",
    "    return asyncio.run(top_league_entries_request(queue, tier, region))[0]\n",
    "\n",
    "# @task(task_id=\"player_ingest\")\n",
    "def players_ingest(players : list[tuple]) -> list[dict]:\n",
    "    return asyncio.run(players_request(players))\n",
    "\n"
   ]
  },
  {
   "attachments": {},
   "cell_type": "markdown",
   "metadata": {},
   "source": [
    "### Clean DataFrame"
   ]
  },
  {
   "cell_type": "code",
   "execution_count": 6,
   "metadata": {},
   "outputs": [],
   "source": [
    "# @task(task_id=\"clean_dataframe_dtypes\")\n",
    "def clean_dataframe_dtypes(df: pd.DataFrame, categorical_columns = [], int_columns = [], datetime_columns = []) -> pd.DataFrame:\n",
    "    for column in categorical_columns:\n",
    "        df[column] = df[column].astype(\"category\")\n",
    "    for column in int_columns:\n",
    "        df[column] = df[column].astype(\"int\")\n",
    "    for column in datetime_columns:\n",
    "        df[column] = pd.to_datetime(df[column])\n",
    "    return df\n",
    "\n",
    "# @task(task_id=\"reorder_coluns\")\n",
    "def reorder_columns(df: pd.DataFrame, ordered_columns: list[str]) -> pd.DataFrame:\n",
    "    return df.reindex(columns=ordered_columns)\n",
    "\n",
    "# @task(task_id=\"clean_dataframe\")\n",
    "def clean_dataframe(df: pd.DataFrame, categorical_columns = [], int_columns = [], datetime_columns = [], ordered_columns = []) -> pd.DataFrame:\n",
    "    df = clean_dataframe_dtypes(df, categorical_columns, int_columns, datetime_columns)\n",
    "    if len(ordered_columns) > 0:\n",
    "        df = reorder_columns(df, ordered_columns)\n",
    "    return df"
   ]
  },
  {
   "attachments": {},
   "cell_type": "markdown",
   "metadata": {},
   "source": [
    "### Saving output to csv"
   ]
  },
  {
   "cell_type": "code",
   "execution_count": 7,
   "metadata": {},
   "outputs": [],
   "source": [
    "# @task(task_id=\"save_to_csv\")\n",
    "def save_to_csv(df: pd.DataFrame, path: str, index: bool = False) -> None:\n",
    "    \"\"\"\n",
    "        Note: Saving to CSV files are only temporary and will be removed after the entire piepline is completed.\n",
    "    \"\"\"\n",
    "    if(os.path.exists(path)):\n",
    "        df.to_csv(path, index=index, mode='a', header=False)\n",
    "    else:\n",
    "        df.to_csv(path, index=index, mode='w', header=True)"
   ]
  },
  {
   "attachments": {},
   "cell_type": "markdown",
   "metadata": {},
   "source": [
    "### League Entries"
   ]
  },
  {
   "cell_type": "code",
   "execution_count": 8,
   "metadata": {},
   "outputs": [],
   "source": [
    "# @task(task_id=\"top_league_entries\")\n",
    "def top_league_entries(queue: str, tier :str, region):\n",
    "    league_entries_raw : dict = top_league_entries_ingest(queue, tier, region)\n",
    "\n",
    "    if not league_entries_raw:\n",
    "        return\n",
    "    \n",
    "    current_time = datetime.now()\n",
    "\n",
    "    player_league_infos = pd.DataFrame(league_entries_raw[\"entries\"])\n",
    "    player_league_infos[\"leagueId\"] = league_entries_raw.get(\"leagueId\")\n",
    "    player_league_infos[\"last_updated\"] = datetime.now()\n",
    "    player_league_infos[\"region\"] = region\n",
    "    player_league_infos = reorder_columns(player_league_infos,\n",
    "                                        ordered_columns= [\"leagueId\",\"region\",\"summonerId\",\"summonerName\",\"leaguePoints\",\"rank\",\"wins\",\"losses\",\"veteran\",\"inactive\",\"freshBlood\",\"hotStreak\",\"last_updated\"])\n",
    "    save_to_csv(player_league_infos, \"../../resources/datasets/player_league_infos.csv\")\n",
    "\n",
    "    del league_entries_raw[\"entries\"]\n",
    "    league_infos = pd.DataFrame([league_entries_raw])\n",
    "    league_infos[\"last_updated\"] = datetime.now()\n",
    "    league_infos[\"queue\"] = queue\n",
    "    league_infos[\"region\"] = region\n",
    "    league_infos[\"division\"] = 'I'\n",
    "    league_infos = reorder_columns(league_infos,\n",
    "                                        ordered_columns= [\"leagueId\",\"region\",\"queue\",\"tier\",\"division\",\"name\",\"last_updated\"])\n",
    "    save_to_csv(league_infos, \"../../resources/datasets/league_infos.csv\")\n",
    "\n",
    "# @task(task_id=\"league_entries\")\n",
    "def league_entries(queue: str, tier :str, division:str, region : str, pages : int):\n",
    "    for page in range(1, pages+1):\n",
    "        #League Infos and Player League Infos is separated\n",
    "        league_entries_raw : dict = pd.DataFrame.from_dict(league_entries_ingest(queue, tier, division, page, region))\n",
    "\n",
    "        if league_entries_raw.empty:\n",
    "            return\n",
    "\n",
    "        player_league_infos = league_entries_raw.loc[:,['leagueId','summonerId','summonerName','leaguePoints','rank','wins','losses','veteran','inactive','freshBlood','hotStreak']]\n",
    "        player_league_infos[\"last_updated\"] = datetime.now()\n",
    "        player_league_infos[\"region\"] = region\n",
    "        player_league_infos = reorder_columns(player_league_infos,[\"leagueId\",\"region\",\"summonerId\",\"summonerName\",\"leaguePoints\",\"rank\",\"wins\",\"losses\",\"veteran\",\"inactive\",\"freshBlood\",\"hotStreak\",\"last_updated\"])\n",
    "        save_to_csv(player_league_infos, \"../../resources/datasets/player_league_infos.csv\")\n",
    "\n",
    "        league_infos = league_entries_raw.loc[:,['leagueId','tier']]\n",
    "        league_infos[\"region\"] = region\n",
    "        league_infos[\"queue\"] = queue\n",
    "        league_infos[\"division\"] = league_entries_raw[\"rank\"]\n",
    "        league_infos[\"last_updated\"] = datetime.now()\n",
    "        league_infos = reorder_columns(league_infos,\n",
    "                                        ordered_columns= [\"leagueId\",\"region\",\"queue\",\"tier\",\"division\",\"name\",\"last_updated\"])\n",
    "        league_infos.drop_duplicates(subset=[\"leagueId\"], inplace=True)\n",
    "        save_to_csv(league_infos, \"../../resources/datasets/league_infos.csv\")\n",
    "\n",
    "# @task(task_id=\"all_league_entries\")\n",
    "def all_league_entries(queues: list[str], tiers : list[str], divisions: list[str], regions : list[str], pages : int):\n",
    "    \"\"\"\n",
    "        Main function for ingestion of data for leagues.  Data is only saved as a CSV file.\n",
    "        Args:\n",
    "            queue::str:\n",
    "                The queue type of the league.  All valid values accepted according to API: RANK_FLEX_SR, RANK_FLEX_TT, RANKED_SOLO_5x5. Note that RANK_FLEX_TT is deprecated.\n",
    "            tier::str:\n",
    "                The league tier.  The following values are accepted: challengerleagues, grandmasterleagues, masterleagues, DIAMOND, PLATINUM, GOLD, SILVER, BRONZE, IRON\n",
    "            division::str:\n",
    "                The league division.  All valid values accepted according to API: I, II, III, IV.  Challenger to Master divisions only have one division.\n",
    "            region::str:\n",
    "                The region of the league.  All valid values accepted according to API: ph2, eun1, euw1, jp1, kr, la1, la2, na1, oc1, ru, sg2, th2, tr1, tw2, vn2\n",
    "            pages::int:\n",
    "                The number of pages to be ingested.  Each page contains >20 entries and varies per region. Challenger to Master divisions always show the complete list (only 1 page).  \n",
    "        Returns:\n",
    "            None\n",
    "    \"\"\"\n",
    "    for queue in queues:\n",
    "        for tier in tiers:\n",
    "            for region in regions:\n",
    "                if tier in [\"challengerleagues\", \"grandmasterleagues\", \"masterleagues\"]:\n",
    "                    print(f\"Queue: {queue}, Tier: {tier}, Region: {region}\")\n",
    "                    top_league_entries(queue=queue, tier=tier, region=region)\n",
    "                else:\n",
    "                    for division in divisions:\n",
    "                        print(f\"Queue: {queue}, Tier: {tier}, Division: {division}, Region: {region}\")\n",
    "                        league_entries(queue=queue, tier=tier, division=division, region=region, pages=pages)\n"
   ]
  },
  {
   "attachments": {},
   "cell_type": "markdown",
   "metadata": {},
   "source": [
    "### Player Details"
   ]
  },
  {
   "cell_type": "code",
   "execution_count": null,
   "metadata": {},
   "outputs": [],
   "source": [
    "player_ids_raw = pd.read_csv(\"../../resources/datasets/player_league_infos.csv\", usecols = [\"summonerId\",\"region\"]).sample(frac=1)\n",
    "player_ids = list(player_ids_raw.itertuples(index=False, name=None))\n",
    "display(len(player_ids))\n",
    "test = players_ingest(player_ids)\n",
    "\n",
    "    # \"RGAPI-6d255cbf-5352-4090-94b1-68f1d9746f6f\",\n",
    "    # \"RGAPI-b509d9b8-4900-4052-9162-051ed993cbea\",\n",
    "    # \"RGAPI-ec7dde02-672d-47ea-b6aa-5b014e554c6b\",\n",
    "    # \"RGAPI-68dca2ec-bf5e-4c87-8bce-5dea4d53da72\",\n",
    "    # \"RGAPI-ad062b7b-fd93-4a98-b656-729a176dd11d\","
   ]
  },
  {
   "attachments": {},
   "cell_type": "markdown",
   "metadata": {},
   "source": [
    "### Match History   "
   ]
  },
  {
   "cell_type": "code",
   "execution_count": null,
   "metadata": {},
   "outputs": [],
   "source": []
  },
  {
   "attachments": {},
   "cell_type": "markdown",
   "metadata": {},
   "source": [
    "## TEST ONLY"
   ]
  },
  {
   "cell_type": "code",
   "execution_count": null,
   "metadata": {},
   "outputs": [
    {
     "name": "stdout",
     "output_type": "stream",
     "text": [
      "Queue: RANKED_SOLO_5x5, Tier: challengerleagues, Region: ph2\n",
      "Queue: RANKED_SOLO_5x5, Tier: challengerleagues, Region: eun1\n",
      "An error occurred: 403 with token RGAPI-ad062b7b-fd93-4a98-b656-729a176dd11d\n",
      "https://eun1.api.riotgames.com/lol/league/v4/challengerleagues/by-queue/RANKED_SOLO_5x5 {'Accept-Language': 'en-US,en;q=0.9', 'Accept-Charset': 'application/x-www-form-urlencoded; charset=UTF-8', 'Origin': 'https://developer.riotgames.com', 'X-Riot-Token': 'RGAPI-ad062b7b-fd93-4a98-b656-729a176dd11d'}\n",
      "Queue: RANKED_SOLO_5x5, Tier: challengerleagues, Region: euw1\n"
     ]
    },
    {
     "ename": "KeyboardInterrupt",
     "evalue": "",
     "output_type": "error",
     "traceback": [
      "\u001b[1;31m---------------------------------------------------------------------------\u001b[0m",
      "\u001b[1;31mKeyboardInterrupt\u001b[0m                         Traceback (most recent call last)",
      "\u001b[1;32md:\\Educational Others\\2023 Data Engineering Zoomcamp Project\\flows\\api_ingestion\\api_ingest.ipynb Cell 18\u001b[0m in \u001b[0;36m<cell line: 12>\u001b[1;34m()\u001b[0m\n\u001b[0;32m      <a href='vscode-notebook-cell:/d%3A/Educational%20Others/2023%20Data%20Engineering%20Zoomcamp%20Project/flows/api_ingestion/api_ingest.ipynb#X15sZmlsZQ%3D%3D?line=8'>9</a>\u001b[0m divisions \u001b[39m=\u001b[39m [\u001b[39m\"\u001b[39m\u001b[39mI\u001b[39m\u001b[39m\"\u001b[39m, \u001b[39m\"\u001b[39m\u001b[39mII\u001b[39m\u001b[39m\"\u001b[39m, \u001b[39m\"\u001b[39m\u001b[39mIII\u001b[39m\u001b[39m\"\u001b[39m, \u001b[39m\"\u001b[39m\u001b[39mIV\u001b[39m\u001b[39m\"\u001b[39m]\n\u001b[0;32m     <a href='vscode-notebook-cell:/d%3A/Educational%20Others/2023%20Data%20Engineering%20Zoomcamp%20Project/flows/api_ingestion/api_ingest.ipynb#X15sZmlsZQ%3D%3D?line=9'>10</a>\u001b[0m regions \u001b[39m=\u001b[39m [\u001b[39m\"\u001b[39m\u001b[39mph2\u001b[39m\u001b[39m\"\u001b[39m, \u001b[39m\"\u001b[39m\u001b[39meun1\u001b[39m\u001b[39m\"\u001b[39m, \u001b[39m\"\u001b[39m\u001b[39meuw1\u001b[39m\u001b[39m\"\u001b[39m, \u001b[39m\"\u001b[39m\u001b[39mjp1\u001b[39m\u001b[39m\"\u001b[39m, \u001b[39m\"\u001b[39m\u001b[39mkr\u001b[39m\u001b[39m\"\u001b[39m, \u001b[39m\"\u001b[39m\u001b[39mla1\u001b[39m\u001b[39m\"\u001b[39m, \u001b[39m\"\u001b[39m\u001b[39mla2\u001b[39m\u001b[39m\"\u001b[39m, \u001b[39m\"\u001b[39m\u001b[39mna1\u001b[39m\u001b[39m\"\u001b[39m, \u001b[39m\"\u001b[39m\u001b[39moc1\u001b[39m\u001b[39m\"\u001b[39m, \u001b[39m\"\u001b[39m\u001b[39mru\u001b[39m\u001b[39m\"\u001b[39m, \u001b[39m\"\u001b[39m\u001b[39msg2\u001b[39m\u001b[39m\"\u001b[39m, \u001b[39m\"\u001b[39m\u001b[39mth2\u001b[39m\u001b[39m\"\u001b[39m, \u001b[39m\"\u001b[39m\u001b[39mtr1\u001b[39m\u001b[39m\"\u001b[39m, \u001b[39m\"\u001b[39m\u001b[39mtw2\u001b[39m\u001b[39m\"\u001b[39m, \u001b[39m\"\u001b[39m\u001b[39mvn2\u001b[39m\u001b[39m\"\u001b[39m]\n\u001b[1;32m---> <a href='vscode-notebook-cell:/d%3A/Educational%20Others/2023%20Data%20Engineering%20Zoomcamp%20Project/flows/api_ingestion/api_ingest.ipynb#X15sZmlsZQ%3D%3D?line=11'>12</a>\u001b[0m all_league_entries(queues\u001b[39m=\u001b[39;49mqueues, tiers\u001b[39m=\u001b[39;49mtiers, divisions\u001b[39m=\u001b[39;49mdivisions, regions\u001b[39m=\u001b[39;49mregions, pages\u001b[39m=\u001b[39;49m\u001b[39m1\u001b[39;49m)\n",
      "\u001b[1;32md:\\Educational Others\\2023 Data Engineering Zoomcamp Project\\flows\\api_ingestion\\api_ingest.ipynb Cell 18\u001b[0m in \u001b[0;36mall_league_entries\u001b[1;34m(queues, tiers, divisions, regions, pages)\u001b[0m\n\u001b[0;32m     <a href='vscode-notebook-cell:/d%3A/Educational%20Others/2023%20Data%20Engineering%20Zoomcamp%20Project/flows/api_ingestion/api_ingest.ipynb#X15sZmlsZQ%3D%3D?line=73'>74</a>\u001b[0m \u001b[39mif\u001b[39;00m tier \u001b[39min\u001b[39;00m [\u001b[39m\"\u001b[39m\u001b[39mchallengerleagues\u001b[39m\u001b[39m\"\u001b[39m, \u001b[39m\"\u001b[39m\u001b[39mgrandmasterleagues\u001b[39m\u001b[39m\"\u001b[39m, \u001b[39m\"\u001b[39m\u001b[39mmasterleagues\u001b[39m\u001b[39m\"\u001b[39m]:\n\u001b[0;32m     <a href='vscode-notebook-cell:/d%3A/Educational%20Others/2023%20Data%20Engineering%20Zoomcamp%20Project/flows/api_ingestion/api_ingest.ipynb#X15sZmlsZQ%3D%3D?line=74'>75</a>\u001b[0m     \u001b[39mprint\u001b[39m(\u001b[39mf\u001b[39m\u001b[39m\"\u001b[39m\u001b[39mQueue: \u001b[39m\u001b[39m{\u001b[39;00mqueue\u001b[39m}\u001b[39;00m\u001b[39m, Tier: \u001b[39m\u001b[39m{\u001b[39;00mtier\u001b[39m}\u001b[39;00m\u001b[39m, Region: \u001b[39m\u001b[39m{\u001b[39;00mregion\u001b[39m}\u001b[39;00m\u001b[39m\"\u001b[39m)\n\u001b[1;32m---> <a href='vscode-notebook-cell:/d%3A/Educational%20Others/2023%20Data%20Engineering%20Zoomcamp%20Project/flows/api_ingestion/api_ingest.ipynb#X15sZmlsZQ%3D%3D?line=75'>76</a>\u001b[0m     top_league_entries(queue\u001b[39m=\u001b[39;49mqueue, tier\u001b[39m=\u001b[39;49mtier, region\u001b[39m=\u001b[39;49mregion)\n\u001b[0;32m     <a href='vscode-notebook-cell:/d%3A/Educational%20Others/2023%20Data%20Engineering%20Zoomcamp%20Project/flows/api_ingestion/api_ingest.ipynb#X15sZmlsZQ%3D%3D?line=76'>77</a>\u001b[0m \u001b[39melse\u001b[39;00m:\n\u001b[0;32m     <a href='vscode-notebook-cell:/d%3A/Educational%20Others/2023%20Data%20Engineering%20Zoomcamp%20Project/flows/api_ingestion/api_ingest.ipynb#X15sZmlsZQ%3D%3D?line=77'>78</a>\u001b[0m     \u001b[39mfor\u001b[39;00m division \u001b[39min\u001b[39;00m divisions:\n",
      "\u001b[1;32md:\\Educational Others\\2023 Data Engineering Zoomcamp Project\\flows\\api_ingestion\\api_ingest.ipynb Cell 18\u001b[0m in \u001b[0;36mtop_league_entries\u001b[1;34m(queue, tier, region)\u001b[0m\n\u001b[0;32m      <a href='vscode-notebook-cell:/d%3A/Educational%20Others/2023%20Data%20Engineering%20Zoomcamp%20Project/flows/api_ingestion/api_ingest.ipynb#X15sZmlsZQ%3D%3D?line=1'>2</a>\u001b[0m \u001b[39mdef\u001b[39;00m \u001b[39mtop_league_entries\u001b[39m(queue: \u001b[39mstr\u001b[39m, tier :\u001b[39mstr\u001b[39m, region):\n\u001b[1;32m----> <a href='vscode-notebook-cell:/d%3A/Educational%20Others/2023%20Data%20Engineering%20Zoomcamp%20Project/flows/api_ingestion/api_ingest.ipynb#X15sZmlsZQ%3D%3D?line=2'>3</a>\u001b[0m     league_entries_raw : \u001b[39mdict\u001b[39m \u001b[39m=\u001b[39m top_league_entries_ingest(queue, tier, region)\n\u001b[0;32m      <a href='vscode-notebook-cell:/d%3A/Educational%20Others/2023%20Data%20Engineering%20Zoomcamp%20Project/flows/api_ingestion/api_ingest.ipynb#X15sZmlsZQ%3D%3D?line=4'>5</a>\u001b[0m     \u001b[39mif\u001b[39;00m \u001b[39mnot\u001b[39;00m league_entries_raw:\n\u001b[0;32m      <a href='vscode-notebook-cell:/d%3A/Educational%20Others/2023%20Data%20Engineering%20Zoomcamp%20Project/flows/api_ingestion/api_ingest.ipynb#X15sZmlsZQ%3D%3D?line=5'>6</a>\u001b[0m         \u001b[39mreturn\u001b[39;00m\n",
      "\u001b[1;32md:\\Educational Others\\2023 Data Engineering Zoomcamp Project\\flows\\api_ingestion\\api_ingest.ipynb Cell 18\u001b[0m in \u001b[0;36mtop_league_entries_ingest\u001b[1;34m(queue, tier, region)\u001b[0m\n\u001b[0;32m     <a href='vscode-notebook-cell:/d%3A/Educational%20Others/2023%20Data%20Engineering%20Zoomcamp%20Project/flows/api_ingestion/api_ingest.ipynb#X15sZmlsZQ%3D%3D?line=9'>10</a>\u001b[0m \u001b[39mdef\u001b[39;00m \u001b[39mtop_league_entries_ingest\u001b[39m(queue: \u001b[39mstr\u001b[39m, tier:\u001b[39mstr\u001b[39m,region \u001b[39m=\u001b[39m \u001b[39m\"\u001b[39m\u001b[39mph2\u001b[39m\u001b[39m\"\u001b[39m) \u001b[39m-\u001b[39m\u001b[39m>\u001b[39m \u001b[39mdict\u001b[39m:\n\u001b[1;32m---> <a href='vscode-notebook-cell:/d%3A/Educational%20Others/2023%20Data%20Engineering%20Zoomcamp%20Project/flows/api_ingestion/api_ingest.ipynb#X15sZmlsZQ%3D%3D?line=10'>11</a>\u001b[0m     \u001b[39mreturn\u001b[39;00m asyncio\u001b[39m.\u001b[39;49mrun(top_league_entries_request(queue, tier, region))[\u001b[39m0\u001b[39m]\n",
      "File \u001b[1;32mc:\\Python310\\lib\\site-packages\\nest_asyncio.py:35\u001b[0m, in \u001b[0;36m_patch_asyncio.<locals>.run\u001b[1;34m(main, debug)\u001b[0m\n\u001b[0;32m     33\u001b[0m task \u001b[39m=\u001b[39m asyncio\u001b[39m.\u001b[39mensure_future(main)\n\u001b[0;32m     34\u001b[0m \u001b[39mtry\u001b[39;00m:\n\u001b[1;32m---> 35\u001b[0m     \u001b[39mreturn\u001b[39;00m loop\u001b[39m.\u001b[39;49mrun_until_complete(task)\n\u001b[0;32m     36\u001b[0m \u001b[39mfinally\u001b[39;00m:\n\u001b[0;32m     37\u001b[0m     \u001b[39mif\u001b[39;00m \u001b[39mnot\u001b[39;00m task\u001b[39m.\u001b[39mdone():\n",
      "File \u001b[1;32mc:\\Python310\\lib\\site-packages\\nest_asyncio.py:83\u001b[0m, in \u001b[0;36m_patch_loop.<locals>.run_until_complete\u001b[1;34m(self, future)\u001b[0m\n\u001b[0;32m     81\u001b[0m     f\u001b[39m.\u001b[39m_log_destroy_pending \u001b[39m=\u001b[39m \u001b[39mFalse\u001b[39;00m\n\u001b[0;32m     82\u001b[0m \u001b[39mwhile\u001b[39;00m \u001b[39mnot\u001b[39;00m f\u001b[39m.\u001b[39mdone():\n\u001b[1;32m---> 83\u001b[0m     \u001b[39mself\u001b[39;49m\u001b[39m.\u001b[39;49m_run_once()\n\u001b[0;32m     84\u001b[0m     \u001b[39mif\u001b[39;00m \u001b[39mself\u001b[39m\u001b[39m.\u001b[39m_stopping:\n\u001b[0;32m     85\u001b[0m         \u001b[39mbreak\u001b[39;00m\n",
      "File \u001b[1;32mc:\\Python310\\lib\\site-packages\\nest_asyncio.py:106\u001b[0m, in \u001b[0;36m_patch_loop.<locals>._run_once\u001b[1;34m(self)\u001b[0m\n\u001b[0;32m     99\u001b[0m     heappop(scheduled)\n\u001b[0;32m    101\u001b[0m timeout \u001b[39m=\u001b[39m (\n\u001b[0;32m    102\u001b[0m     \u001b[39m0\u001b[39m \u001b[39mif\u001b[39;00m ready \u001b[39mor\u001b[39;00m \u001b[39mself\u001b[39m\u001b[39m.\u001b[39m_stopping\n\u001b[0;32m    103\u001b[0m     \u001b[39melse\u001b[39;00m \u001b[39mmin\u001b[39m(\u001b[39mmax\u001b[39m(\n\u001b[0;32m    104\u001b[0m         scheduled[\u001b[39m0\u001b[39m]\u001b[39m.\u001b[39m_when \u001b[39m-\u001b[39m \u001b[39mself\u001b[39m\u001b[39m.\u001b[39mtime(), \u001b[39m0\u001b[39m), \u001b[39m86400\u001b[39m) \u001b[39mif\u001b[39;00m scheduled\n\u001b[0;32m    105\u001b[0m     \u001b[39melse\u001b[39;00m \u001b[39mNone\u001b[39;00m)\n\u001b[1;32m--> 106\u001b[0m event_list \u001b[39m=\u001b[39m \u001b[39mself\u001b[39;49m\u001b[39m.\u001b[39;49m_selector\u001b[39m.\u001b[39;49mselect(timeout)\n\u001b[0;32m    107\u001b[0m \u001b[39mself\u001b[39m\u001b[39m.\u001b[39m_process_events(event_list)\n\u001b[0;32m    109\u001b[0m end_time \u001b[39m=\u001b[39m \u001b[39mself\u001b[39m\u001b[39m.\u001b[39mtime() \u001b[39m+\u001b[39m \u001b[39mself\u001b[39m\u001b[39m.\u001b[39m_clock_resolution\n",
      "File \u001b[1;32mc:\\Python310\\lib\\selectors.py:324\u001b[0m, in \u001b[0;36mSelectSelector.select\u001b[1;34m(self, timeout)\u001b[0m\n\u001b[0;32m    322\u001b[0m ready \u001b[39m=\u001b[39m []\n\u001b[0;32m    323\u001b[0m \u001b[39mtry\u001b[39;00m:\n\u001b[1;32m--> 324\u001b[0m     r, w, _ \u001b[39m=\u001b[39m \u001b[39mself\u001b[39;49m\u001b[39m.\u001b[39;49m_select(\u001b[39mself\u001b[39;49m\u001b[39m.\u001b[39;49m_readers, \u001b[39mself\u001b[39;49m\u001b[39m.\u001b[39;49m_writers, [], timeout)\n\u001b[0;32m    325\u001b[0m \u001b[39mexcept\u001b[39;00m \u001b[39mInterruptedError\u001b[39;00m:\n\u001b[0;32m    326\u001b[0m     \u001b[39mreturn\u001b[39;00m ready\n",
      "File \u001b[1;32mc:\\Python310\\lib\\selectors.py:315\u001b[0m, in \u001b[0;36mSelectSelector._select\u001b[1;34m(self, r, w, _, timeout)\u001b[0m\n\u001b[0;32m    314\u001b[0m \u001b[39mdef\u001b[39;00m \u001b[39m_select\u001b[39m(\u001b[39mself\u001b[39m, r, w, _, timeout\u001b[39m=\u001b[39m\u001b[39mNone\u001b[39;00m):\n\u001b[1;32m--> 315\u001b[0m     r, w, x \u001b[39m=\u001b[39m select\u001b[39m.\u001b[39;49mselect(r, w, w, timeout)\n\u001b[0;32m    316\u001b[0m     \u001b[39mreturn\u001b[39;00m r, w \u001b[39m+\u001b[39m x, []\n",
      "\u001b[1;31mKeyboardInterrupt\u001b[0m: "
     ]
    }
   ],
   "source": [
    "# TEST FILES\n",
    "# print(league_entries_ingest(\"RANKED_SOLO_5x5\", \"DIAMOND\", \"I\", 1))\n",
    "\n",
    "# print(match_ingest(\"PH2_8088906\")[\"metadata\"])\n",
    "\n",
    "# Test Top League Entries\n",
    "queues = [\"RANKED_SOLO_5x5\", \"RANKED_FLEX_SR\"]\n",
    "tiers = [\"challengerleagues\", \"grandmasterleagues\", \"masterleagues\" , \"DIAMOND\"]\n",
    "divisions = [\"I\", \"II\", \"III\", \"IV\"]\n",
    "regions = [\"ph2\", \"eun1\", \"euw1\", \"jp1\", \"kr\", \"la1\", \"la2\", \"na1\", \"oc1\", \"ru\", \"sg2\", \"th2\", \"tr1\", \"tw2\", \"vn2\"]\n",
    "\n",
    "all_league_entries(queues=queues, tiers=tiers, divisions=divisions, regions=regions, pages=1)\n"
   ]
  }
 ],
 "metadata": {
  "kernelspec": {
   "display_name": "Python 3",
   "language": "python",
   "name": "python3"
  },
  "language_info": {
   "codemirror_mode": {
    "name": "ipython",
    "version": 3
   },
   "file_extension": ".py",
   "mimetype": "text/x-python",
   "name": "python",
   "nbconvert_exporter": "python",
   "pygments_lexer": "ipython3",
   "version": "3.10.6"
  },
  "orig_nbformat": 4
 },
 "nbformat": 4,
 "nbformat_minor": 2
}
